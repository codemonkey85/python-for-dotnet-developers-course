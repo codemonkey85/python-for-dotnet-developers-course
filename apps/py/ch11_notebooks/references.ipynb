{
 "cells": [
  {
   "cell_type": "markdown",
   "metadata": {},
   "source": [
    "# Python Bytes domain reference authority"
   ]
  },
  {
   "cell_type": "code",
   "execution_count": 83,
   "metadata": {},
   "outputs": [],
   "source": [
    "import bs4\n",
    "import feedparser"
   ]
  },
  {
   "cell_type": "markdown",
   "metadata": {},
   "source": [
    "## Get the RSS feed data as a dictionary"
   ]
  },
  {
   "cell_type": "code",
   "execution_count": 84,
   "metadata": {},
   "outputs": [
    {
     "name": "stdout",
     "output_type": "stream",
     "text": [
      "Python Bytes\n"
     ]
    }
   ],
   "source": [
    "url = 'https://pythonbytes.fm/episodes/rss'\n",
    "feed = feedparser.parse(url)\n",
    "print(feed.get('feed').get('title'))"
   ]
  },
  {
   "cell_type": "code",
   "execution_count": 85,
   "metadata": {},
   "outputs": [
    {
     "name": "stdout",
     "output_type": "stream",
     "text": [
      "Size of downloaded data: 2.5 MB!\n"
     ]
    }
   ],
   "source": [
    "print(f'Size of downloaded data: {len(str(feed)) / 1024 / 1024:,.1f} MB!')"
   ]
  },
  {
   "cell_type": "markdown",
   "metadata": {},
   "source": [
    "## Extract the entries"
   ]
  },
  {
   "cell_type": "code",
   "execution_count": 86,
   "metadata": {},
   "outputs": [
    {
     "name": "stdout",
     "output_type": "stream",
     "text": [
      "Downloaded 152 entries.\n"
     ]
    }
   ],
   "source": [
    "entries = feed.get('entries')\n",
    "print(f'Downloaded {len(entries):,} entries.')\n",
    "# print(entries[0].get('description')[:300])"
   ]
  },
  {
   "cell_type": "markdown",
   "metadata": {},
   "source": [
    "## Parse the HTML from the entry descriptions\n",
    "\n",
    "The body is RSS but each entry's description is an HTML fragment so we must parse it that way."
   ]
  },
  {
   "cell_type": "code",
   "execution_count": 87,
   "metadata": {},
   "outputs": [
    {
     "name": "stdout",
     "output_type": "stream",
     "text": [
      "Parsed 2,717 links from all episodes.\n"
     ]
    }
   ],
   "source": [
    "all_links = []\n",
    "\n",
    "for e in entries:\n",
    "    desc = e.get('description')\n",
    "    soup = bs4.BeautifulSoup('<html><body>' + desc + '</body></html>', 'html.parser')\n",
    "\n",
    "    links = [a['href'] for a in soup.findAll('a')]\n",
    "    links = [l.replace('www.', '') for l in links]\n",
    "    links = [l.replace('do.co', 'digitalocean.com') for l in links]\n",
    "    all_links.extend(links)\n",
    "\n",
    "\n",
    "# unique_links = list(set(all_links))\n",
    "all_links.sort()\n",
    "# Yikes, bad links!\n",
    "all_links = all_links[4:]\n",
    "\n",
    "print(f'Parsed {len(all_links):,} links from all episodes.')"
   ]
  },
  {
   "cell_type": "markdown",
   "metadata": {},
   "source": [
    "## Extract domain names from the raw links."
   ]
  },
  {
   "cell_type": "code",
   "execution_count": 88,
   "metadata": {},
   "outputs": [
    {
     "name": "stdout",
     "output_type": "stream",
     "text": [
      "First 10 domains are ['PyCon.DE', 'PythonWeekly.com', 'aka.ms', 'allaboutcode.co.uk', 'allynh.com', 'alpopkes.com', 'alpopkes.com', 'amzn.to', 'amzn.to', 'amzn.to'] ...\n"
     ]
    }
   ],
   "source": [
    "from urllib.parse import urlparse\n",
    "\n",
    "excluded = {'pythonbytes.fm', '', '#'}\n",
    "domains = [urlparse(link).netloc for link in all_links if link not in excluded]\n",
    "domains = [d for d in domains if d not in excluded]\n",
    "print(f'First 10 domains are {domains[:10]} ...')"
   ]
  },
  {
   "cell_type": "markdown",
   "metadata": {},
   "source": [
    "## Count the domains"
   ]
  },
  {
   "cell_type": "code",
   "execution_count": 89,
   "metadata": {},
   "outputs": [
    {
     "data": {
      "text/plain": [
       "[('github.com', 431),\n",
       " ('twitter.com', 190),\n",
       " ('youtube.com', 68),\n",
       " ('python.org', 66),\n",
       " ('medium.com', 51),\n",
       " ('reddit.com', 41),\n",
       " ('realpython.com', 35),\n",
       " ('pypi.python.org', 30),\n",
       " ('talkpython.fm', 30),\n",
       " ('docs.python.org', 29),\n",
       " ('testandcode.com', 25),\n",
       " ('training.talkpython.fm', 25),\n",
       " ('pypi.org', 23),\n",
       " ('hackernoon.com', 23),\n",
       " ('en.wikipedia.org', 21),\n",
       " ('digitalocean.com', 20),\n",
       " ('devguide.python.org', 20),\n",
       " ('lwn.net', 20),\n",
       " ('docs.pytest.org', 19),\n",
       " ('pythonforengineers.com', 18),\n",
       " ('pragprog.com', 15),\n",
       " ('rollbar.com', 15),\n",
       " ('arstechnica.com', 15),\n",
       " ('opensource.com', 14),\n",
       " ('insights.stackoverflow.com', 13)]"
      ]
     },
     "execution_count": 89,
     "metadata": {},
     "output_type": "execute_result"
    }
   ],
   "source": [
    "from collections import Counter\n",
    "\n",
    "cn = Counter(domains)\n",
    "common = cn.most_common()\n",
    "\n",
    "top_25 = common[:25]\n",
    "top_25"
   ]
  },
  {
   "cell_type": "markdown",
   "metadata": {},
   "source": [
    "## Summary of popular domains"
   ]
  },
  {
   "cell_type": "markdown",
   "metadata": {},
   "source": [
    "Import and setup `matplotlib`"
   ]
  },
  {
   "cell_type": "code",
   "execution_count": 90,
   "metadata": {},
   "outputs": [],
   "source": [
    "import matplotlib.pyplot as plt\n",
    "import numpy as np\n",
    "\n",
    "%matplotlib inline"
   ]
  },
  {
   "cell_type": "markdown",
   "metadata": {},
   "source": [
    "Generate a histogram of popular domains"
   ]
  },
  {
   "cell_type": "code",
   "execution_count": 95,
   "metadata": {},
   "outputs": [
    {
     "data": {
      "image/png": "[encoded data removed]",
      "text/plain": [
       "<Figure size 1080x360 with 1 Axes>"
      ]
     },
     "metadata": {
      "needs_background": "light"
     },
     "output_type": "display_data"
    }
   ],
   "source": [
    "plt.rcParams['figure.figsize'] = (15, 5)\n",
    "\n",
    "values = [t[1] for t in top_25]\n",
    "value_bins = [t[0] for t in top_25]\n",
    "\n",
    "ind = list(range(1, len(values) + 1))  # the x locations for the groups\n",
    "width = 0.40  # the width of the bars: can also be len(x) sequence\n",
    "\n",
    "# p1 = plt.bar(ind, menMeans, width)\n",
    "p1 = plt.bar(ind, values, width * 2)\n",
    "\n",
    "plt.ylabel('Number of referrals')\n",
    "plt.title('Sites referred to by Python Bytes')\n",
    "plt.xticks(ind, value_bins, rotation='vertical')\n",
    "plt.yticks(np.arange(0, max(values), 50))\n",
    "plt.width = 500"
   ]
  }
 ],
 "metadata": {
  "kernelspec": {
   "display_name": "course_env",
   "language": "python",
   "name": "course_env"
  },
  "language_info": {
   "codemirror_mode": {
    "name": "ipython",
    "version": 3
   },
   "file_extension": ".py",
   "mimetype": "text/x-python",
   "name": "python",
   "nbconvert_exporter": "python",
   "pygments_lexer": "ipython3",
   "version": "3.7.4"
  }
 },
 "nbformat": 4,
 "nbformat_minor": 4
}
